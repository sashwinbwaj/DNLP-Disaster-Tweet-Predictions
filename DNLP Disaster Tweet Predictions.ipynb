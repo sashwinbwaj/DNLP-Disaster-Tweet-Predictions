{
 "cells": [
  {
   "cell_type": "markdown",
   "id": "1b194cc9-2afa-4fc7-9b88-25ba85841837",
   "metadata": {},
   "source": [
    "## NLP to Predict Disaster Tweets\n",
    "\n",
    "This project uses NLP to clean ~10000 tweets and encode it using various vectorizers such as Count/Tf-Idf & Hashing. The encoded matrix is used to predict if the tweet is about a disaster, using multiple classifiers. A ridge regression classifier is taken as a benchmark, resulting is ~80% accuracy. Naive Bayes classifier, one of the most popular algorithms used in NLP was also implemented with hyper-parameter tuning, resulting in enhanced accuracies in both the K-folds validation set & out-of-sample test set."
   ]
  },
  {
   "cell_type": "markdown",
   "id": "ed494592-a130-4d2d-a03b-5b4d87dfd5e9",
   "metadata": {},
   "source": [
    "#### Loading & Pre-processing (Dropping/ Missing value treatment)"
   ]
  },
  {
   "cell_type": "code",
   "execution_count": 2,
   "id": "bf1d6fb2-cd10-419a-9378-602bb09ee9b8",
   "metadata": {},
   "outputs": [],
   "source": [
    "import pandas as pd\n",
    "import numpy as np\n",
    "import matplotlib.pyplot as plt\n",
    "import seaborn as sns"
   ]
  },
  {
   "cell_type": "code",
   "execution_count": 109,
   "id": "dc3aac73-1d35-4f5b-8d7d-97b2f8751994",
   "metadata": {},
   "outputs": [
    {
     "data": {
      "text/html": [
       "<div>\n",
       "<style scoped>\n",
       "    .dataframe tbody tr th:only-of-type {\n",
       "        vertical-align: middle;\n",
       "    }\n",
       "\n",
       "    .dataframe tbody tr th {\n",
       "        vertical-align: top;\n",
       "    }\n",
       "\n",
       "    .dataframe thead th {\n",
       "        text-align: right;\n",
       "    }\n",
       "</style>\n",
       "<table border=\"1\" class=\"dataframe\">\n",
       "  <thead>\n",
       "    <tr style=\"text-align: right;\">\n",
       "      <th></th>\n",
       "      <th>keyword</th>\n",
       "      <th>location</th>\n",
       "      <th>text</th>\n",
       "      <th>target</th>\n",
       "    </tr>\n",
       "  </thead>\n",
       "  <tbody>\n",
       "    <tr>\n",
       "      <th>0</th>\n",
       "      <td>NaN</td>\n",
       "      <td>NaN</td>\n",
       "      <td>Our Deeds are the Reason of this #earthquake M...</td>\n",
       "      <td>1</td>\n",
       "    </tr>\n",
       "    <tr>\n",
       "      <th>1</th>\n",
       "      <td>NaN</td>\n",
       "      <td>NaN</td>\n",
       "      <td>Forest fire near La Ronge Sask. Canada</td>\n",
       "      <td>1</td>\n",
       "    </tr>\n",
       "    <tr>\n",
       "      <th>2</th>\n",
       "      <td>NaN</td>\n",
       "      <td>NaN</td>\n",
       "      <td>All residents asked to 'shelter in place' are ...</td>\n",
       "      <td>1</td>\n",
       "    </tr>\n",
       "    <tr>\n",
       "      <th>3</th>\n",
       "      <td>NaN</td>\n",
       "      <td>NaN</td>\n",
       "      <td>13,000 people receive #wildfires evacuation or...</td>\n",
       "      <td>1</td>\n",
       "    </tr>\n",
       "    <tr>\n",
       "      <th>4</th>\n",
       "      <td>NaN</td>\n",
       "      <td>NaN</td>\n",
       "      <td>Just got sent this photo from Ruby #Alaska as ...</td>\n",
       "      <td>1</td>\n",
       "    </tr>\n",
       "  </tbody>\n",
       "</table>\n",
       "</div>"
      ],
      "text/plain": [
       "  keyword location                                               text  target\n",
       "0     NaN      NaN  Our Deeds are the Reason of this #earthquake M...       1\n",
       "1     NaN      NaN             Forest fire near La Ronge Sask. Canada       1\n",
       "2     NaN      NaN  All residents asked to 'shelter in place' are ...       1\n",
       "3     NaN      NaN  13,000 people receive #wildfires evacuation or...       1\n",
       "4     NaN      NaN  Just got sent this photo from Ruby #Alaska as ...       1"
      ]
     },
     "execution_count": 109,
     "metadata": {},
     "output_type": "execute_result"
    }
   ],
   "source": [
    "tweets_train = pd.read_csv(\"train.csv\")\n",
    "tweets_train = tweets_train.drop(columns = 'id')\n",
    "tweets_train.head()"
   ]
  },
  {
   "cell_type": "code",
   "execution_count": 110,
   "id": "ff4ebae4-149b-47bc-af32-73afdc815912",
   "metadata": {},
   "outputs": [
    {
     "data": {
      "text/plain": [
       "keyword       61\n",
       "location    2533\n",
       "text           0\n",
       "target         0\n",
       "dtype: int64"
      ]
     },
     "execution_count": 110,
     "metadata": {},
     "output_type": "execute_result"
    }
   ],
   "source": [
    "tweets_train.shape[0]\n",
    "tweets_train.isnull().sum()"
   ]
  },
  {
   "cell_type": "code",
   "execution_count": 111,
   "id": "d5411a33-a5b6-427b-aecc-dde5f788ede5",
   "metadata": {},
   "outputs": [
    {
     "name": "stdout",
     "output_type": "stream",
     "text": [
      "The median of the location is USA\n",
      "The median of the keyword is fatalities\n"
     ]
    }
   ],
   "source": [
    "print('The median of the location is', tweets_train.location.value_counts().index[0])\n",
    "print('The median of the keyword is', tweets_train.keyword.value_counts().index[0])"
   ]
  },
  {
   "cell_type": "code",
   "execution_count": 112,
   "id": "c6fe37d0-458f-409d-890e-fca38c7440f1",
   "metadata": {},
   "outputs": [],
   "source": [
    "tweets_train['location'] = np.where(tweets_train['location'].isna(), 'USA', tweets_train['location'])\n",
    "tweets_train['keyword'] = np.where(tweets_train['keyword'].isna(), 'fatalities', tweets_train['keyword'])"
   ]
  },
  {
   "cell_type": "code",
   "execution_count": 7,
   "id": "78c2efaf-7dbf-4283-888f-eb3db3c41ea9",
   "metadata": {},
   "outputs": [
    {
     "data": {
      "text/plain": [
       "keyword     0\n",
       "location    0\n",
       "text        0\n",
       "target      0\n",
       "dtype: int64"
      ]
     },
     "execution_count": 7,
     "metadata": {},
     "output_type": "execute_result"
    }
   ],
   "source": [
    "tweets_train.isnull().sum()"
   ]
  },
  {
   "cell_type": "code",
   "execution_count": 113,
   "id": "3fb8a52c-ce13-413f-84b7-59b7326ca24f",
   "metadata": {},
   "outputs": [
    {
     "data": {
      "text/plain": [
       "keyword     0\n",
       "location    0\n",
       "text        0\n",
       "target      0\n",
       "dtype: int64"
      ]
     },
     "execution_count": 113,
     "metadata": {},
     "output_type": "execute_result"
    }
   ],
   "source": [
    "tweets_test = pd.read_csv(\"test.csv\")\n",
    "tweets_test = tweets_test.drop(columns = 'id')\n",
    "tweets_test['location'] = np.where(tweets_test['location'].isna(), 'USA', tweets_test['location'])\n",
    "tweets_test['keyword'] = np.where(tweets_test['keyword'].isna(), 'fatalities', tweets_test['keyword'])\n",
    "tweets_train.isnull().sum()"
   ]
  },
  {
   "cell_type": "markdown",
   "id": "06528e3b-e3f9-49a1-ad9f-86ef207fa699",
   "metadata": {},
   "source": [
    "#### Tweet cleaning using string methods & NLTK "
   ]
  },
  {
   "cell_type": "code",
   "execution_count": 228,
   "id": "3d0aa786-6691-40e1-8318-7eca21577e84",
   "metadata": {},
   "outputs": [],
   "source": [
    "# Defining a function that takes in the text & keyword of the tweet to return a cleaned text which can input into vectorizer \n",
    "import string\n",
    "from nltk.tokenize import word_tokenize\n",
    "from nltk.stem import WordNetLemmatizer\n",
    "lemmatizer = WordNetLemmatizer()\n",
    "from nltk.corpus import stopwords\n",
    "import re\n",
    "\n",
    "punctuations_removal = str.maketrans('','', string.punctuation) # creating a mapping to remove punctuations\n",
    "stops = stopwords.words('english') # creating a list of stop words in English\n",
    "\n",
    "def clean_tweets(input_text, keyword):\n",
    "    \n",
    "    if type(input_text) == float:\n",
    "        return \"\"\n",
    "    punctuations_removal = str.maketrans('','', string.punctuation) # creating a mapping to remove punctuations\n",
    "    stops = stopwords.words('english') # creating a list of stop words in English\n",
    "    temp = input_text.lower() # converting to lowercase\n",
    "    temp = temp = re.sub(r'http\\S+', '', temp) #removing links\n",
    "    keyword = str(keyword) # converting pandas to string\n",
    "    \n",
    "    tokens = word_tokenize(temp) # converting strings to list of word\n",
    "    stripped_tokens = [words.translate(punctuations_removal) for words in tokens] # removing punctuations\n",
    "    stripped_tokens = stripped_tokens + [keyword] # adding keyword to the list\n",
    "    stripped_tokens = [word for word in stripped_tokens if word.isalpha()]# removing non-alphanumeric words \n",
    "    stripped_tokens = [lemmatizer.lemmatize(word) for word in stripped_tokens] # lemmatizing\n",
    "    stripped_tokens = [word for word in stripped_tokens if word not in stops] # removing stop words  \n",
    "    return ' '.join(stripped_tokens) # joining words to a text list"
   ]
  },
  {
   "cell_type": "code",
   "execution_count": 226,
   "id": "e9e2d8af-0f52-44ff-9e38-4666f66087b6",
   "metadata": {},
   "outputs": [
    {
     "name": "stderr",
     "output_type": "stream",
     "text": [
      "<ipython-input-226-9ae5f1bab1ea>:3: SettingWithCopyWarning: \n",
      "A value is trying to be set on a copy of a slice from a DataFrame.\n",
      "Try using .loc[row_indexer,col_indexer] = value instead\n",
      "\n",
      "See the caveats in the documentation: https://pandas.pydata.org/pandas-docs/stable/user_guide/indexing.html#returning-a-view-versus-a-copy\n",
      "  disaster_tweets['final_text'] = disaster_tweets.apply(lambda x: clean_tweets(x['text'], ' '), axis = 1)\n"
     ]
    }
   ],
   "source": [
    "# cleaning tweets taggeed as disasters to plot words with most frequencies\n",
    "disaster_tweets = tweets_train.loc[tweets_train['target'] == 1,]\n",
    "disaster_tweets['final_text'] = disaster_tweets.apply(lambda x: clean_tweets(x['text'], ' '), axis = 1)\n",
    "word_corpus = []\n",
    "disaster_tweets.head()\n",
    "for i in range(0, disaster_tweets.shape[0]):\n",
    "    words = disaster_tweets.iloc[i,4].split()\n",
    "    for word in words:\n",
    "        word_corpus.append(word)"
   ]
  },
  {
   "cell_type": "code",
   "execution_count": 227,
   "id": "c5bdae18-94ba-4205-b95b-c728ba452bf0",
   "metadata": {},
   "outputs": [
    {
     "data": {
      "text/plain": [
       "Text(0.5, 0, 'Frequency')"
      ]
     },
     "execution_count": 227,
     "metadata": {},
     "output_type": "execute_result"
    },
    {
     "data": {
      "image/png": "[encoded data removed]",
      "text/plain": [
       "<Figure size 1584x576 with 1 Axes>"
      ]
     },
     "metadata": {
      "needs_background": "light"
     },
     "output_type": "display_data"
    }
   ],
   "source": [
    "from collections import Counter\n",
    "high_frequencies = pd.DataFrame(Counter(word_corpus).most_common(25), columns=['word', 'count'])\n",
    "\n",
    "fig, ax = plt.subplots(figsize = (22,8))\n",
    "ax = sns.barplot(data = high_frequencies, x = 'word', y = 'count', alpha = 0.8)\n",
    "plt.xticks(ha = 'right', fontsize = 14, rotation = 30)\n",
    "plt.yticks(fontsize = 14)\n",
    "ax.set_title('Most common words in Disaster Tweets', fontsize = 20)\n",
    "ax.set_ylabel('Word', fontsize = 16)\n",
    "ax.set_xlabel('Frequency', fontsize = 16)"
   ]
  },
  {
   "cell_type": "code",
   "execution_count": 181,
   "id": "7b134bca-946d-449c-add8-25c9a8e88244",
   "metadata": {},
   "outputs": [],
   "source": [
    "# applying the cleaner function on the dataset\n",
    "tweets_train['final_text'] = tweets_train.apply(lambda x: clean_tweets(x['text'], x['keyword']), axis = 1)"
   ]
  },
  {
   "cell_type": "code",
   "execution_count": 184,
   "id": "d9e94dc6-5218-4fc4-b5f8-8ca155e64baa",
   "metadata": {},
   "outputs": [],
   "source": [
    "# Splitting dataset into train & test sets\n",
    "from sklearn.model_selection import train_test_split\n",
    "X = tweets_train['final_text']\n",
    "y = tweets_train['target']\n",
    "X_train, X_test, y_train, y_test = train_test_split(X, y, test_size=0.25, random_state=0)"
   ]
  },
  {
   "cell_type": "markdown",
   "id": "d1729322-3dcc-4d1a-bc6c-f1322a167f7a",
   "metadata": {},
   "source": [
    "### Vectorizer functions to encode cleaned texts\n",
    "\n",
    "We will use three encoder systems to convert the cleaned texts into numerical inputs for the classifer. A baseline model (Ridge-Classifier) is used to compare the efficiences of the encoders."
   ]
  },
  {
   "cell_type": "markdown",
   "id": "1e8aff7a-910f-4bd5-bc21-d2e283fc4c22",
   "metadata": {},
   "source": [
    "#### Count vectorizer\n",
    "This encoder creates a vocubulary based on the text corpus & encodes each tweet into a sparse matrix containing the frequency occurences of each word in the tweet"
   ]
  },
  {
   "cell_type": "code",
   "execution_count": 185,
   "id": "5e20017c-f334-4b28-8942-16381a21ee79",
   "metadata": {},
   "outputs": [],
   "source": [
    "# creating the count vectorizer function\n",
    "vectorizer = feature_extraction.text.CountVectorizer()\n",
    "# creating a vocabulary based on X-train texts\n",
    "vectorizer.fit(X_train)\n",
    "# fitting it on the train & test datasets\n",
    "tweets_train_vectors = vectorizer.transform(X_train)\n",
    "tweets_test_vectors = vectorizer.transform(X_test)"
   ]
  },
  {
   "cell_type": "code",
   "execution_count": 186,
   "id": "e9e64fea-28a1-45cc-a136-0116d76efb87",
   "metadata": {},
   "outputs": [
    {
     "name": "stdout",
     "output_type": "stream",
     "text": [
      "deed reason earthquake may allah forgive u fatality\n",
      "[[0 0 0 ... 0 0 0]]\n"
     ]
    }
   ],
   "source": [
    "print(X_train[0])\n",
    "print(tweets_train_vectors[0].toarray())"
   ]
  },
  {
   "cell_type": "code",
   "execution_count": 187,
   "id": "0b2397e9-be53-4519-8882-380dca452047",
   "metadata": {},
   "outputs": [
    {
     "name": "stdout",
     "output_type": "stream",
     "text": [
      "(1, 12301)\n"
     ]
    }
   ],
   "source": [
    "print(tweets_train_vectors[0].todense().shape)"
   ]
  },
  {
   "cell_type": "code",
   "execution_count": 188,
   "id": "6223af93-9c58-46ac-9be5-a6651b69b354",
   "metadata": {},
   "outputs": [
    {
     "name": "stdout",
     "output_type": "stream",
     "text": [
      "Accuracy on K-folds validation on train set: 0.771 (0.017)\n",
      "Accuracy of Ridge regression classifier on test set: 0.78\n"
     ]
    }
   ],
   "source": [
    "# Fitting final features in the training data & reporting K-folds validation scores\n",
    "from sklearn.linear_model import RidgeClassifier\n",
    "from sklearn.model_selection import cross_val_score\n",
    "from sklearn.model_selection import RepeatedStratifiedKFold\n",
    "from sklearn import metrics\n",
    "from numpy import mean\n",
    "from numpy import std\n",
    "\n",
    "clf = RidgeClassifier()\n",
    "clf.fit(tweets_train_vectors, y_train)\n",
    "\n",
    "cv = RepeatedStratifiedKFold(n_splits=10, n_repeats=5, random_state=1)\n",
    "scores = cross_val_score(clf, tweets_train_vectors, y_train, cv=cv, scoring=\"accuracy\", n_jobs = -1)\n",
    "print('Accuracy on K-folds validation on train set: %.3f (%.3f)' % (mean(scores), std(scores)))\n",
    "print('Accuracy of Ridge regression classifier on test set: {:.2f}'.format(clf.score(tweets_test_vectors, y_test)))"
   ]
  },
  {
   "cell_type": "markdown",
   "id": "f339a80d-0ba7-4b2c-83cc-76531f6a9e51",
   "metadata": {},
   "source": [
    "#### Term Frequency - Inverse Document Frequency Vectorizer\n",
    "\n",
    "To penalize the occurence of commonly used terms, the Tf-Idf vectorizer calculates word frequencies in a tweet & downsizes it based on the number of tweets containing the same word in the entire document corpus"
   ]
  },
  {
   "cell_type": "code",
   "execution_count": 189,
   "id": "952795b9-83d9-428e-8457-0b023ef7745c",
   "metadata": {},
   "outputs": [],
   "source": [
    "# creating the Tf-IDF vectorizer function\n",
    "vectorizer = feature_extraction.text.TfidfVectorizer()\n",
    "# creating a vocabulary based on X-train texts\n",
    "vectorizer.fit(X_train)\n",
    "# fitting it on the train & test datasets\n",
    "tweets_train_vectors = vectorizer.transform(X_train)"
   ]
  },
  {
   "cell_type": "code",
   "execution_count": 190,
   "id": "53b45129-30bc-4766-b291-09c690d02d68",
   "metadata": {},
   "outputs": [
    {
     "name": "stdout",
     "output_type": "stream",
     "text": [
      "Accuracy on K-folds validation on train set: 0.792 (0.015)\n",
      "Accuracy of Ridge regression classifier on test set: 0.80\n"
     ]
    }
   ],
   "source": [
    "# Fitting final features in the training data & reporting K-folds validation scores\n",
    "from sklearn.linear_model import RidgeClassifier\n",
    "from sklearn.model_selection import cross_val_score\n",
    "from sklearn.model_selection import RepeatedStratifiedKFold\n",
    "from sklearn import metrics\n",
    "from numpy import mean\n",
    "from numpy import std\n",
    "\n",
    "clf = RidgeClassifier()\n",
    "clf.fit(tweets_train_vectors, y_train)\n",
    "\n",
    "cv = RepeatedStratifiedKFold(n_splits=10, n_repeats=5, random_state=1)\n",
    "scores = cross_val_score(clf, tweets_train_vectors, y_train, cv=cv, scoring=\"accuracy\", n_jobs = -1)\n",
    "print('Accuracy on K-folds validation on train set: %.3f (%.3f)' % (mean(scores), std(scores)))\n",
    "print('Accuracy of Ridge regression classifier on test set: {:.2f}'.format(clf.score(tweets_test_vectors, y_test)))"
   ]
  },
  {
   "cell_type": "markdown",
   "id": "868008de-cce2-494d-8215-694593bfce73",
   "metadata": {},
   "source": [
    "### Naive Bayes Classifier\n",
    "\n",
    "In a small dataset such as ours, Naive Bayes might work well since it assumes that the words in the tweet are now independent of each other & we can use the probabilities of each word in the entire corpus to determine the conditional probability of a tweet being about a disaster.  \n",
    "For words that never appear in the corpus, NB uses Laplace smoother (adding 1 to the frequency of each term & adding n (unique words) to the denominator) to avoid probability to plummet to zero.  "
   ]
  },
  {
   "cell_type": "code",
   "execution_count": 191,
   "id": "313ccbf4-5824-4383-9c7e-c0347f9ba623",
   "metadata": {},
   "outputs": [
    {
     "name": "stdout",
     "output_type": "stream",
     "text": [
      "Accuracy on K-folds validation on train set: 0.797 (0.016)\n",
      "Accuracy of Naive Bayes classifier on test set: 0.80\n"
     ]
    }
   ],
   "source": [
    "# Fitting final features in the training data & reporting K-folds validation scores\n",
    "from sklearn.naive_bayes import MultinomialNB\n",
    "from sklearn.model_selection import cross_val_score\n",
    "from sklearn.model_selection import RepeatedStratifiedKFold\n",
    "from sklearn import metrics\n",
    "from numpy import mean\n",
    "from numpy import std\n",
    "\n",
    "clf = MultinomialNB()\n",
    "clf.fit(tweets_train_vectors, y_train)\n",
    "\n",
    "cv = RepeatedStratifiedKFold(n_splits=10, n_repeats=5, random_state=1)\n",
    "scores = cross_val_score(clf, tweets_train_vectors, y_train, cv=cv, scoring=\"accuracy\", n_jobs = -1)\n",
    "print('Accuracy on K-folds validation on train set: %.3f (%.3f)' % (mean(scores), std(scores)))\n",
    "print('Accuracy of Naive Bayes classifier on test set: {:.2f}'.format(clf.score(tweets_test_vectors, y_test)))"
   ]
  },
  {
   "cell_type": "markdown",
   "id": "87b2a19a-7c8c-47bf-bcc6-a6af4601f198",
   "metadata": {},
   "source": [
    "#### Fitting the data into the testset & submitting results to Kaggle\n",
    "\n",
    "The test dataset does not contain the target class, so we will fit the Naive Bayes model to the test set & submit the predictions. "
   ]
  },
  {
   "cell_type": "code",
   "execution_count": 195,
   "id": "9ff479e9-20ca-446a-980a-ba14fd20a197",
   "metadata": {},
   "outputs": [],
   "source": [
    "# applying the cleaner function on the dataset\n",
    "tweets_test['final_text'] = tweets_test.apply(lambda x: clean_tweets(x['text'], x['keyword']), axis = 1)\n",
    "outsample_X = tweets_test['final_text']\n",
    "outsample_vectors = vectorizer.transform(outsample_X)\n",
    "tweets_test['target'] = clf.predict(outsample_vectors)"
   ]
  },
  {
   "cell_type": "markdown",
   "id": "d39ae023-7333-4268-86f6-daac8b9a00eb",
   "metadata": {},
   "source": [
    "In this project, we used NLTK & string methods to clean tweets. The cleaned tweets were vectorized & tested with two models : Ridge & Naive Bayes classifier.  \n",
    "Owing to the small size & content constraints, the NB classifier worked out slightly better than the baseline model. We can explore more sophisticated methods such as SVM, Neural Networks etc to improve performance. "
   ]
  }
 ],
 "metadata": {
  "kernelspec": {
   "display_name": "Python 3",
   "language": "python",
   "name": "python3"
  },
  "language_info": {
   "codemirror_mode": {
    "name": "ipython",
    "version": 3
   },
   "file_extension": ".py",
   "mimetype": "text/x-python",
   "name": "python",
   "nbconvert_exporter": "python",
   "pygments_lexer": "ipython3",
   "version": "3.8.8"
  }
 },
 "nbformat": 4,
 "nbformat_minor": 5
}
