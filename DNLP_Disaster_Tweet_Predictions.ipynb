{
  "cells": [
    {
      "cell_type": "markdown",
      "metadata": {
        "id": "view-in-github",
        "colab_type": "text"
      },
      "source": [
        "<a href=\"https://colab.research.google.com/github/sashwinbwaj/DNLP-Disaster-Tweet-Predictions/blob/main/DNLP_Disaster_Tweet_Predictions.ipynb\" target=\"_parent\"><img src=\"https://colab.research.google.com/assets/colab-badge.svg\" alt=\"Open In Colab\"/></a>"
      ]
    },
    {
      "cell_type": "markdown",
      "id": "1b194cc9-2afa-4fc7-9b88-25ba85841837",
      "metadata": {
        "id": "1b194cc9-2afa-4fc7-9b88-25ba85841837"
      },
      "source": [
        "## NLP to Predict Disaster Tweets\n",
        "\n",
        "This project uses NLP to clean ~10000 tweets and encode it using various vectorizers such as Count/Tf-Idf & Hashing. The encoded matrix is used to predict if the tweet is about a disaster, using multiple classifiers. A ridge regression classifier is taken as a benchmark, resulting is ~80% accuracy. Naive Bayes classifier, one of the most popular algorithms used in NLP was also implemented with hyper-parameter tuning, resulting in enhanced accuracies in both the K-folds validation set & out-of-sample test set.  \n",
        "We finally experimented with deep neural networks. A couple of recurrent layers using LSTMs were followed by a flattened MLP. The results were not an improvement to the traditional ML techniques, possibly due to the amount of data in the model. "
      ]
    },
    {
      "cell_type": "markdown",
      "id": "ed494592-a130-4d2d-a03b-5b4d87dfd5e9",
      "metadata": {
        "id": "ed494592-a130-4d2d-a03b-5b4d87dfd5e9"
      },
      "source": [
        "#### 1.0 Loading & Pre-processing (Dropping/ Missing value treatment)"
      ]
    },
    {
      "cell_type": "code",
      "execution_count": 24,
      "id": "bf1d6fb2-cd10-419a-9378-602bb09ee9b8",
      "metadata": {
        "id": "bf1d6fb2-cd10-419a-9378-602bb09ee9b8"
      },
      "outputs": [],
      "source": [
        "import pandas as pd\n",
        "import numpy as np\n",
        "import matplotlib.pyplot as plt\n",
        "import seaborn as sns"
      ]
    },
    {
      "cell_type": "code",
      "execution_count": 25,
      "id": "dc3aac73-1d35-4f5b-8d7d-97b2f8751994",
      "metadata": {
        "colab": {
          "base_uri": "https://localhost:8080/",
          "height": 206
        },
        "id": "dc3aac73-1d35-4f5b-8d7d-97b2f8751994",
        "outputId": "8fc87d14-0a49-45d7-fdfb-c332aa889c3f"
      },
      "outputs": [
        {
          "output_type": "execute_result",
          "data": {
            "text/html": [
              "\n",
              "  <div id=\"df-f567184c-7de3-477b-8e5f-58bd1c2d826f\">\n",
              "    <div class=\"colab-df-container\">\n",
              "      <div>\n",
              "<style scoped>\n",
              "    .dataframe tbody tr th:only-of-type {\n",
              "        vertical-align: middle;\n",
              "    }\n",
              "\n",
              "    .dataframe tbody tr th {\n",
              "        vertical-align: top;\n",
              "    }\n",
              "\n",
              "    .dataframe thead th {\n",
              "        text-align: right;\n",
              "    }\n",
              "</style>\n",
              "<table border=\"1\" class=\"dataframe\">\n",
              "  <thead>\n",
              "    <tr style=\"text-align: right;\">\n",
              "      <th></th>\n",
              "      <th>keyword</th>\n",
              "      <th>location</th>\n",
              "      <th>text</th>\n",
              "      <th>target</th>\n",
              "    </tr>\n",
              "  </thead>\n",
              "  <tbody>\n",
              "    <tr>\n",
              "      <th>0</th>\n",
              "      <td>NaN</td>\n",
              "      <td>NaN</td>\n",
              "      <td>Our Deeds are the Reason of this #earthquake M...</td>\n",
              "      <td>1</td>\n",
              "    </tr>\n",
              "    <tr>\n",
              "      <th>1</th>\n",
              "      <td>NaN</td>\n",
              "      <td>NaN</td>\n",
              "      <td>Forest fire near La Ronge Sask. Canada</td>\n",
              "      <td>1</td>\n",
              "    </tr>\n",
              "    <tr>\n",
              "      <th>2</th>\n",
              "      <td>NaN</td>\n",
              "      <td>NaN</td>\n",
              "      <td>All residents asked to 'shelter in place' are ...</td>\n",
              "      <td>1</td>\n",
              "    </tr>\n",
              "    <tr>\n",
              "      <th>3</th>\n",
              "      <td>NaN</td>\n",
              "      <td>NaN</td>\n",
              "      <td>13,000 people receive #wildfires evacuation or...</td>\n",
              "      <td>1</td>\n",
              "    </tr>\n",
              "    <tr>\n",
              "      <th>4</th>\n",
              "      <td>NaN</td>\n",
              "      <td>NaN</td>\n",
              "      <td>Just got sent this photo from Ruby #Alaska as ...</td>\n",
              "      <td>1</td>\n",
              "    </tr>\n",
              "  </tbody>\n",
              "</table>\n",
              "</div>\n",
              "      <button class=\"colab-df-convert\" onclick=\"convertToInteractive('df-f567184c-7de3-477b-8e5f-58bd1c2d826f')\"\n",
              "              title=\"Convert this dataframe to an interactive table.\"\n",
              "              style=\"display:none;\">\n",
              "        \n",
              "  <svg xmlns=\"http://www.w3.org/2000/svg\" height=\"24px\"viewBox=\"0 0 24 24\"\n",
              "       width=\"24px\">\n",
              "    <path d=\"M0 0h24v24H0V0z\" fill=\"none\"/>\n",
              "    <path d=\"M18.56 5.44l.94 2.06.94-2.06 2.06-.94-2.06-.94-.94-2.06-.94 2.06-2.06.94zm-11 1L8.5 8.5l.94-2.06 2.06-.94-2.06-.94L8.5 2.5l-.94 2.06-2.06.94zm10 10l.94 2.06.94-2.06 2.06-.94-2.06-.94-.94-2.06-.94 2.06-2.06.94z\"/><path d=\"M17.41 7.96l-1.37-1.37c-.4-.4-.92-.59-1.43-.59-.52 0-1.04.2-1.43.59L10.3 9.45l-7.72 7.72c-.78.78-.78 2.05 0 2.83L4 21.41c.39.39.9.59 1.41.59.51 0 1.02-.2 1.41-.59l7.78-7.78 2.81-2.81c.8-.78.8-2.07 0-2.86zM5.41 20L4 18.59l7.72-7.72 1.47 1.35L5.41 20z\"/>\n",
              "  </svg>\n",
              "      </button>\n",
              "      \n",
              "  <style>\n",
              "    .colab-df-container {\n",
              "      display:flex;\n",
              "      flex-wrap:wrap;\n",
              "      gap: 12px;\n",
              "    }\n",
              "\n",
              "    .colab-df-convert {\n",
              "      background-color: #E8F0FE;\n",
              "      border: none;\n",
              "      border-radius: 50%;\n",
              "      cursor: pointer;\n",
              "      display: none;\n",
              "      fill: #1967D2;\n",
              "      height: 32px;\n",
              "      padding: 0 0 0 0;\n",
              "      width: 32px;\n",
              "    }\n",
              "\n",
              "    .colab-df-convert:hover {\n",
              "      background-color: #E2EBFA;\n",
              "      box-shadow: 0px 1px 2px rgba(60, 64, 67, 0.3), 0px 1px 3px 1px rgba(60, 64, 67, 0.15);\n",
              "      fill: #174EA6;\n",
              "    }\n",
              "\n",
              "    [theme=dark] .colab-df-convert {\n",
              "      background-color: #3B4455;\n",
              "      fill: #D2E3FC;\n",
              "    }\n",
              "\n",
              "    [theme=dark] .colab-df-convert:hover {\n",
              "      background-color: #434B5C;\n",
              "      box-shadow: 0px 1px 3px 1px rgba(0, 0, 0, 0.15);\n",
              "      filter: drop-shadow(0px 1px 2px rgba(0, 0, 0, 0.3));\n",
              "      fill: #FFFFFF;\n",
              "    }\n",
              "  </style>\n",
              "\n",
              "      <script>\n",
              "        const buttonEl =\n",
              "          document.querySelector('#df-f567184c-7de3-477b-8e5f-58bd1c2d826f button.colab-df-convert');\n",
              "        buttonEl.style.display =\n",
              "          google.colab.kernel.accessAllowed ? 'block' : 'none';\n",
              "\n",
              "        async function convertToInteractive(key) {\n",
              "          const element = document.querySelector('#df-f567184c-7de3-477b-8e5f-58bd1c2d826f');\n",
              "          const dataTable =\n",
              "            await google.colab.kernel.invokeFunction('convertToInteractive',\n",
              "                                                     [key], {});\n",
              "          if (!dataTable) return;\n",
              "\n",
              "          const docLinkHtml = 'Like what you see? Visit the ' +\n",
              "            '<a target=\"_blank\" href=https://colab.research.google.com/notebooks/data_table.ipynb>data table notebook</a>'\n",
              "            + ' to learn more about interactive tables.';\n",
              "          element.innerHTML = '';\n",
              "          dataTable['output_type'] = 'display_data';\n",
              "          await google.colab.output.renderOutput(dataTable, element);\n",
              "          const docLink = document.createElement('div');\n",
              "          docLink.innerHTML = docLinkHtml;\n",
              "          element.appendChild(docLink);\n",
              "        }\n",
              "      </script>\n",
              "    </div>\n",
              "  </div>\n",
              "  "
            ],
            "text/plain": [
              "  keyword location                                               text  target\n",
              "0     NaN      NaN  Our Deeds are the Reason of this #earthquake M...       1\n",
              "1     NaN      NaN             Forest fire near La Ronge Sask. Canada       1\n",
              "2     NaN      NaN  All residents asked to 'shelter in place' are ...       1\n",
              "3     NaN      NaN  13,000 people receive #wildfires evacuation or...       1\n",
              "4     NaN      NaN  Just got sent this photo from Ruby #Alaska as ...       1"
            ]
          },
          "metadata": {},
          "execution_count": 25
        }
      ],
      "source": [
        "tweets_train = pd.read_csv(\"train.csv\")\n",
        "tweets_train = tweets_train.drop(columns = 'id')\n",
        "tweets_train.head()"
      ]
    },
    {
      "cell_type": "code",
      "execution_count": 26,
      "id": "ff4ebae4-149b-47bc-af32-73afdc815912",
      "metadata": {
        "colab": {
          "base_uri": "https://localhost:8080/"
        },
        "id": "ff4ebae4-149b-47bc-af32-73afdc815912",
        "outputId": "e2fd7d76-1963-41fe-b715-4916675b1ac0"
      },
      "outputs": [
        {
          "output_type": "execute_result",
          "data": {
            "text/plain": [
              "keyword       61\n",
              "location    2533\n",
              "text           0\n",
              "target         0\n",
              "dtype: int64"
            ]
          },
          "metadata": {},
          "execution_count": 26
        }
      ],
      "source": [
        "tweets_train.shape[0]\n",
        "tweets_train.isnull().sum()"
      ]
    },
    {
      "cell_type": "code",
      "execution_count": 27,
      "id": "d5411a33-a5b6-427b-aecc-dde5f788ede5",
      "metadata": {
        "colab": {
          "base_uri": "https://localhost:8080/"
        },
        "id": "d5411a33-a5b6-427b-aecc-dde5f788ede5",
        "outputId": "98989af3-f916-46bb-bf2a-c8da62bc0ac4"
      },
      "outputs": [
        {
          "output_type": "stream",
          "name": "stdout",
          "text": [
            "The median of the location is USA\n",
            "The median of the keyword is fatalities\n"
          ]
        }
      ],
      "source": [
        "print('The median of the location is', tweets_train.location.value_counts().index[0])\n",
        "print('The median of the keyword is', tweets_train.keyword.value_counts().index[0])"
      ]
    },
    {
      "cell_type": "code",
      "execution_count": 28,
      "id": "c6fe37d0-458f-409d-890e-fca38c7440f1",
      "metadata": {
        "id": "c6fe37d0-458f-409d-890e-fca38c7440f1"
      },
      "outputs": [],
      "source": [
        "tweets_train['location'] = np.where(tweets_train['location'].isna(), 'USA', tweets_train['location'])\n",
        "tweets_train['keyword'] = np.where(tweets_train['keyword'].isna(), 'fatalities', tweets_train['keyword'])"
      ]
    },
    {
      "cell_type": "code",
      "execution_count": 29,
      "id": "78c2efaf-7dbf-4283-888f-eb3db3c41ea9",
      "metadata": {
        "colab": {
          "base_uri": "https://localhost:8080/"
        },
        "id": "78c2efaf-7dbf-4283-888f-eb3db3c41ea9",
        "outputId": "e146ade9-042b-4e4d-e744-5020e294df55"
      },
      "outputs": [
        {
          "output_type": "execute_result",
          "data": {
            "text/plain": [
              "keyword     0\n",
              "location    0\n",
              "text        0\n",
              "target      0\n",
              "dtype: int64"
            ]
          },
          "metadata": {},
          "execution_count": 29
        }
      ],
      "source": [
        "tweets_train.isnull().sum()"
      ]
    },
    {
      "cell_type": "code",
      "execution_count": 30,
      "id": "3fb8a52c-ce13-413f-84b7-59b7326ca24f",
      "metadata": {
        "colab": {
          "base_uri": "https://localhost:8080/"
        },
        "id": "3fb8a52c-ce13-413f-84b7-59b7326ca24f",
        "outputId": "9771d32d-d0aa-462e-f1a3-a7567d5eb9a5"
      },
      "outputs": [
        {
          "output_type": "execute_result",
          "data": {
            "text/plain": [
              "keyword     0\n",
              "location    0\n",
              "text        0\n",
              "target      0\n",
              "dtype: int64"
            ]
          },
          "metadata": {},
          "execution_count": 30
        }
      ],
      "source": [
        "tweets_test = pd.read_csv(\"test.csv\")\n",
        "tweets_test = tweets_test.drop(columns = 'id')\n",
        "tweets_test['location'] = np.where(tweets_test['location'].isna(), 'USA', tweets_test['location'])\n",
        "tweets_test['keyword'] = np.where(tweets_test['keyword'].isna(), 'fatalities', tweets_test['keyword'])\n",
        "tweets_train.isnull().sum()"
      ]
    },
    {
      "cell_type": "code",
      "source": [
        "tweets_train.target.value_counts()"
      ],
      "metadata": {
        "colab": {
          "base_uri": "https://localhost:8080/"
        },
        "id": "u6K-eCdjVxMP",
        "outputId": "921a27ca-29e2-4619-898d-2caad480e8b8"
      },
      "id": "u6K-eCdjVxMP",
      "execution_count": 31,
      "outputs": [
        {
          "output_type": "execute_result",
          "data": {
            "text/plain": [
              "0    4342\n",
              "1    3271\n",
              "Name: target, dtype: int64"
            ]
          },
          "metadata": {},
          "execution_count": 31
        }
      ]
    },
    {
      "cell_type": "code",
      "source": [
        "tweets_train.query(\"target == 0\").head()"
      ],
      "metadata": {
        "colab": {
          "base_uri": "https://localhost:8080/",
          "height": 206
        },
        "id": "cRfO4U2gV4bN",
        "outputId": "bba369bc-c3d8-4ac5-e9c9-aa659c31c685"
      },
      "id": "cRfO4U2gV4bN",
      "execution_count": 32,
      "outputs": [
        {
          "output_type": "execute_result",
          "data": {
            "text/html": [
              "\n",
              "  <div id=\"df-85239cd6-1fe2-49c2-a754-a9c7792e9590\">\n",
              "    <div class=\"colab-df-container\">\n",
              "      <div>\n",
              "<style scoped>\n",
              "    .dataframe tbody tr th:only-of-type {\n",
              "        vertical-align: middle;\n",
              "    }\n",
              "\n",
              "    .dataframe tbody tr th {\n",
              "        vertical-align: top;\n",
              "    }\n",
              "\n",
              "    .dataframe thead th {\n",
              "        text-align: right;\n",
              "    }\n",
              "</style>\n",
              "<table border=\"1\" class=\"dataframe\">\n",
              "  <thead>\n",
              "    <tr style=\"text-align: right;\">\n",
              "      <th></th>\n",
              "      <th>keyword</th>\n",
              "      <th>location</th>\n",
              "      <th>text</th>\n",
              "      <th>target</th>\n",
              "    </tr>\n",
              "  </thead>\n",
              "  <tbody>\n",
              "    <tr>\n",
              "      <th>15</th>\n",
              "      <td>fatalities</td>\n",
              "      <td>USA</td>\n",
              "      <td>What's up man?</td>\n",
              "      <td>0</td>\n",
              "    </tr>\n",
              "    <tr>\n",
              "      <th>16</th>\n",
              "      <td>fatalities</td>\n",
              "      <td>USA</td>\n",
              "      <td>I love fruits</td>\n",
              "      <td>0</td>\n",
              "    </tr>\n",
              "    <tr>\n",
              "      <th>17</th>\n",
              "      <td>fatalities</td>\n",
              "      <td>USA</td>\n",
              "      <td>Summer is lovely</td>\n",
              "      <td>0</td>\n",
              "    </tr>\n",
              "    <tr>\n",
              "      <th>18</th>\n",
              "      <td>fatalities</td>\n",
              "      <td>USA</td>\n",
              "      <td>My car is so fast</td>\n",
              "      <td>0</td>\n",
              "    </tr>\n",
              "    <tr>\n",
              "      <th>19</th>\n",
              "      <td>fatalities</td>\n",
              "      <td>USA</td>\n",
              "      <td>What a goooooooaaaaaal!!!!!!</td>\n",
              "      <td>0</td>\n",
              "    </tr>\n",
              "  </tbody>\n",
              "</table>\n",
              "</div>\n",
              "      <button class=\"colab-df-convert\" onclick=\"convertToInteractive('df-85239cd6-1fe2-49c2-a754-a9c7792e9590')\"\n",
              "              title=\"Convert this dataframe to an interactive table.\"\n",
              "              style=\"display:none;\">\n",
              "        \n",
              "  <svg xmlns=\"http://www.w3.org/2000/svg\" height=\"24px\"viewBox=\"0 0 24 24\"\n",
              "       width=\"24px\">\n",
              "    <path d=\"M0 0h24v24H0V0z\" fill=\"none\"/>\n",
              "    <path d=\"M18.56 5.44l.94 2.06.94-2.06 2.06-.94-2.06-.94-.94-2.06-.94 2.06-2.06.94zm-11 1L8.5 8.5l.94-2.06 2.06-.94-2.06-.94L8.5 2.5l-.94 2.06-2.06.94zm10 10l.94 2.06.94-2.06 2.06-.94-2.06-.94-.94-2.06-.94 2.06-2.06.94z\"/><path d=\"M17.41 7.96l-1.37-1.37c-.4-.4-.92-.59-1.43-.59-.52 0-1.04.2-1.43.59L10.3 9.45l-7.72 7.72c-.78.78-.78 2.05 0 2.83L4 21.41c.39.39.9.59 1.41.59.51 0 1.02-.2 1.41-.59l7.78-7.78 2.81-2.81c.8-.78.8-2.07 0-2.86zM5.41 20L4 18.59l7.72-7.72 1.47 1.35L5.41 20z\"/>\n",
              "  </svg>\n",
              "      </button>\n",
              "      \n",
              "  <style>\n",
              "    .colab-df-container {\n",
              "      display:flex;\n",
              "      flex-wrap:wrap;\n",
              "      gap: 12px;\n",
              "    }\n",
              "\n",
              "    .colab-df-convert {\n",
              "      background-color: #E8F0FE;\n",
              "      border: none;\n",
              "      border-radius: 50%;\n",
              "      cursor: pointer;\n",
              "      display: none;\n",
              "      fill: #1967D2;\n",
              "      height: 32px;\n",
              "      padding: 0 0 0 0;\n",
              "      width: 32px;\n",
              "    }\n",
              "\n",
              "    .colab-df-convert:hover {\n",
              "      background-color: #E2EBFA;\n",
              "      box-shadow: 0px 1px 2px rgba(60, 64, 67, 0.3), 0px 1px 3px 1px rgba(60, 64, 67, 0.15);\n",
              "      fill: #174EA6;\n",
              "    }\n",
              "\n",
              "    [theme=dark] .colab-df-convert {\n",
              "      background-color: #3B4455;\n",
              "      fill: #D2E3FC;\n",
              "    }\n",
              "\n",
              "    [theme=dark] .colab-df-convert:hover {\n",
              "      background-color: #434B5C;\n",
              "      box-shadow: 0px 1px 3px 1px rgba(0, 0, 0, 0.15);\n",
              "      filter: drop-shadow(0px 1px 2px rgba(0, 0, 0, 0.3));\n",
              "      fill: #FFFFFF;\n",
              "    }\n",
              "  </style>\n",
              "\n",
              "      <script>\n",
              "        const buttonEl =\n",
              "          document.querySelector('#df-85239cd6-1fe2-49c2-a754-a9c7792e9590 button.colab-df-convert');\n",
              "        buttonEl.style.display =\n",
              "          google.colab.kernel.accessAllowed ? 'block' : 'none';\n",
              "\n",
              "        async function convertToInteractive(key) {\n",
              "          const element = document.querySelector('#df-85239cd6-1fe2-49c2-a754-a9c7792e9590');\n",
              "          const dataTable =\n",
              "            await google.colab.kernel.invokeFunction('convertToInteractive',\n",
              "                                                     [key], {});\n",
              "          if (!dataTable) return;\n",
              "\n",
              "          const docLinkHtml = 'Like what you see? Visit the ' +\n",
              "            '<a target=\"_blank\" href=https://colab.research.google.com/notebooks/data_table.ipynb>data table notebook</a>'\n",
              "            + ' to learn more about interactive tables.';\n",
              "          element.innerHTML = '';\n",
              "          dataTable['output_type'] = 'display_data';\n",
              "          await google.colab.output.renderOutput(dataTable, element);\n",
              "          const docLink = document.createElement('div');\n",
              "          docLink.innerHTML = docLinkHtml;\n",
              "          element.appendChild(docLink);\n",
              "        }\n",
              "      </script>\n",
              "    </div>\n",
              "  </div>\n",
              "  "
            ],
            "text/plain": [
              "       keyword location                          text  target\n",
              "15  fatalities      USA                What's up man?       0\n",
              "16  fatalities      USA                 I love fruits       0\n",
              "17  fatalities      USA              Summer is lovely       0\n",
              "18  fatalities      USA             My car is so fast       0\n",
              "19  fatalities      USA  What a goooooooaaaaaal!!!!!!       0"
            ]
          },
          "metadata": {},
          "execution_count": 32
        }
      ]
    },
    {
      "cell_type": "markdown",
      "source": [
        "#### 1.1 EDA - Most common words represented in disaster tweets"
      ],
      "metadata": {
        "id": "vaDK6tlWwBqj"
      },
      "id": "vaDK6tlWwBqj"
    },
    {
      "cell_type": "code",
      "execution_count": 35,
      "id": "e9e2d8af-0f52-44ff-9e38-4666f66087b6",
      "metadata": {
        "colab": {
          "base_uri": "https://localhost:8080/"
        },
        "id": "e9e2d8af-0f52-44ff-9e38-4666f66087b6",
        "outputId": "5ee5feae-9606-4d05-8ad3-040286faf09b"
      },
      "outputs": [
        {
          "output_type": "stream",
          "name": "stderr",
          "text": [
            "/usr/local/lib/python3.7/dist-packages/ipykernel_launcher.py:3: SettingWithCopyWarning: \n",
            "A value is trying to be set on a copy of a slice from a DataFrame.\n",
            "Try using .loc[row_indexer,col_indexer] = value instead\n",
            "\n",
            "See the caveats in the documentation: https://pandas.pydata.org/pandas-docs/stable/user_guide/indexing.html#returning-a-view-versus-a-copy\n",
            "  This is separate from the ipykernel package so we can avoid doing imports until\n"
          ]
        }
      ],
      "source": [
        "# cleaning tweets taggeed as disasters to plot words with most frequencies\n",
        "disaster_tweets = tweets_train.loc[tweets_train['target'] == 1,]\n",
        "disaster_tweets['final_text'] = disaster_tweets.apply(lambda x: clean_tweets(x['text'], ' '), axis = 1)\n",
        "word_corpus = []\n",
        "disaster_tweets.head()\n",
        "for i in range(0, disaster_tweets.shape[0]):\n",
        "    words = disaster_tweets.iloc[i,4].split()\n",
        "    for word in words:\n",
        "        word_corpus.append(word)"
      ]
    },
    {
      "cell_type": "code",
      "execution_count": 36,
      "id": "c5bdae18-94ba-4205-b95b-c728ba452bf0",
      "metadata": {
        "id": "c5bdae18-94ba-4205-b95b-c728ba452bf0",
        "outputId": "f24bd890-c382-41d7-c493-05dcce4005bb",
        "colab": {
          "base_uri": "https://localhost:8080/",
          "height": 578
        }
      },
      "outputs": [
        {
          "output_type": "execute_result",
          "data": {
            "text/plain": [
              "Text(0.5, 0, 'Frequency')"
            ]
          },
          "metadata": {},
          "execution_count": 36
        },
        {
          "output_type": "display_data",
          "data": {
            "image/png": "[encoded data removed]",
            "text/plain": [
              "<Figure size 1584x576 with 1 Axes>"
            ]
          },
          "metadata": {
            "needs_background": "light"
          }
        }
      ],
      "source": [
        "from collections import Counter\n",
        "high_frequencies = pd.DataFrame(Counter(word_corpus).most_common(25), columns=['word', 'count'])\n",
        "\n",
        "fig, ax = plt.subplots(figsize = (22,8))\n",
        "ax = sns.barplot(data = high_frequencies, x = 'word', y = 'count', alpha = 0.8)\n",
        "plt.xticks(ha = 'right', fontsize = 14, rotation = 30)\n",
        "plt.yticks(fontsize = 14)\n",
        "ax.set_title('Most common words in Disaster Tweets', fontsize = 20)\n",
        "ax.set_ylabel('Word', fontsize = 16)\n",
        "ax.set_xlabel('Frequency', fontsize = 16)"
      ]
    },
    {
      "cell_type": "markdown",
      "id": "06528e3b-e3f9-49a1-ad9f-86ef207fa699",
      "metadata": {
        "id": "06528e3b-e3f9-49a1-ad9f-86ef207fa699"
      },
      "source": [
        "#### 1.3 Tweet cleaning using string methods & NLTK "
      ]
    },
    {
      "cell_type": "code",
      "source": [
        "import nltk\n",
        "nltk.download('stopwords')\n",
        "nltk.download('punkt')\n",
        "nltk.download('wordnet')"
      ],
      "metadata": {
        "colab": {
          "base_uri": "https://localhost:8080/"
        },
        "id": "cK45jM0Z2VIq",
        "outputId": "dc45b781-0c67-4ef8-cde2-7bfde621d5ba"
      },
      "id": "cK45jM0Z2VIq",
      "execution_count": 33,
      "outputs": [
        {
          "output_type": "stream",
          "name": "stdout",
          "text": [
            "[nltk_data] Downloading package stopwords to /root/nltk_data...\n",
            "[nltk_data]   Package stopwords is already up-to-date!\n",
            "[nltk_data] Downloading package punkt to /root/nltk_data...\n",
            "[nltk_data]   Package punkt is already up-to-date!\n",
            "[nltk_data] Downloading package wordnet to /root/nltk_data...\n",
            "[nltk_data]   Package wordnet is already up-to-date!\n"
          ]
        },
        {
          "output_type": "execute_result",
          "data": {
            "text/plain": [
              "True"
            ]
          },
          "metadata": {},
          "execution_count": 33
        }
      ]
    },
    {
      "cell_type": "code",
      "execution_count": 34,
      "id": "3d0aa786-6691-40e1-8318-7eca21577e84",
      "metadata": {
        "id": "3d0aa786-6691-40e1-8318-7eca21577e84"
      },
      "outputs": [],
      "source": [
        "# Defining a function that takes in the text & keyword of the tweet to return a cleaned text which can input into vectorizer \n",
        "import string\n",
        "from nltk.tokenize import word_tokenize\n",
        "from nltk.stem import WordNetLemmatizer\n",
        "lemmatizer = WordNetLemmatizer()\n",
        "from nltk.corpus import stopwords\n",
        "import re\n",
        "\n",
        "punctuations_removal = str.maketrans('','', string.punctuation) # creating a mapping to remove punctuations\n",
        "stops = stopwords.words('english') # creating a list of stop words in English\n",
        "\n",
        "def clean_tweets(input_text, keyword):\n",
        "    \n",
        "    if type(input_text) == float:\n",
        "        return \"\"\n",
        "    # punctuations_removal = str.maketrans('','', string.punctuation) # creating a mapping to remove punctuations\n",
        "    # stops = stopwords.words('english') # creating a list of stop words in English\n",
        "    temp = input_text.lower() # converting to lowercase\n",
        "    temp = temp = re.sub(r'http\\S+', '', temp) #removing links\n",
        "    keyword = str(keyword) # converting pandas to string\n",
        "    \n",
        "    tokens = word_tokenize(temp) # converting strings to list of word\n",
        "    stripped_tokens = [words.translate(punctuations_removal) for words in tokens] # removing punctuations\n",
        "    stripped_tokens = stripped_tokens # adding keyword to the list\n",
        "    stripped_tokens = [word for word in stripped_tokens if word.isalpha()]# removing non-alphanumeric words \n",
        "    stripped_tokens = [lemmatizer.lemmatize(word) for word in stripped_tokens] # lemmatizing\n",
        "    stripped_tokens = [word for word in stripped_tokens if word not in stops] # removing stop words  \n",
        "    return ' '.join(stripped_tokens) # joining words to a text list"
      ]
    },
    {
      "cell_type": "code",
      "execution_count": 37,
      "id": "7b134bca-946d-449c-add8-25c9a8e88244",
      "metadata": {
        "id": "7b134bca-946d-449c-add8-25c9a8e88244"
      },
      "outputs": [],
      "source": [
        "# applying the cleaner function on the dataset\n",
        "tweets_train['final_text'] = tweets_train.apply(lambda x: clean_tweets(x['text'], x['keyword']), axis = 1)"
      ]
    },
    {
      "cell_type": "code",
      "execution_count": 38,
      "id": "d9e94dc6-5218-4fc4-b5f8-8ca155e64baa",
      "metadata": {
        "id": "d9e94dc6-5218-4fc4-b5f8-8ca155e64baa",
        "colab": {
          "base_uri": "https://localhost:8080/"
        },
        "outputId": "dfe8aec6-1ad4-49e4-9524-b49895a76236"
      },
      "outputs": [
        {
          "output_type": "execute_result",
          "data": {
            "text/plain": [
              "5244    refugio oil spill may costlier bigger projecte...\n",
              "4860    julian knight scvsupremecourt dismisses mass m...\n",
              "6538    electricity cant stop scofield nigga survived ...\n",
              "5175    meek mill begging nicki minaj let obliterate o...\n",
              "5820    stock market crash summer ha sparked interest ...\n",
              "Name: final_text, dtype: object"
            ]
          },
          "metadata": {},
          "execution_count": 38
        }
      ],
      "source": [
        "# Splitting dataset into train & test sets\n",
        "from sklearn.model_selection import train_test_split\n",
        "X = tweets_train['final_text']\n",
        "y = tweets_train['target']\n",
        "X_train, X_test, y_train, y_test = train_test_split(tweets_train['final_text'], tweets_train['target'], test_size=0.25, random_state=0)\n",
        "X_train.head()"
      ]
    },
    {
      "cell_type": "markdown",
      "id": "d1729322-3dcc-4d1a-bc6c-f1322a167f7a",
      "metadata": {
        "id": "d1729322-3dcc-4d1a-bc6c-f1322a167f7a"
      },
      "source": [
        "### 1.4 Text vectorization\n",
        "\n",
        "Texts cannot be directly be input into the classification models. Vectorization methods are used to convert texts into numerical representations. There are a bunch of ways to vectorize strings:  \n",
        "1. **Frequency based trainable methods**: These are used to convert the entire document into a corpus of words, which is used to represent unique words. The type of representation can be binary (1/0 if the word is in the sentence), count (number of times it appears) or even term frequency - inverse document frequency (can be thought of as a regualarized version which penalises words which appears frequently)\n",
        "2. **Word embeddings** - Embeddings are a class of vectorization methods which represents words in a corpus in a k-dimensional feature space where similar words are placed closed to each other. While frequency based methods don't capture the relationships between words, embeddings does a good job in understanding the syntactic & semantic relationships between words.  \n",
        "\n",
        "Some of the famous embedding systems include Skip-grams & CBOW in Word2Vec, GLove etc. In this project, we will use two encoder systems to convert the cleaned texts into numerical inputs for the classifer. A baseline model (Ridge-Classifier) is used to compare the efficiences of the encoders."
      ]
    },
    {
      "cell_type": "markdown",
      "id": "1e8aff7a-910f-4bd5-bc21-d2e283fc4c22",
      "metadata": {
        "id": "1e8aff7a-910f-4bd5-bc21-d2e283fc4c22"
      },
      "source": [
        "#### 1.4.1 Count vectorizer\n",
        "This encoder creates a vocubulary based on the text corpus & encodes each tweet into a sparse matrix containing the frequency occurences of each word in the tweet"
      ]
    },
    {
      "cell_type": "code",
      "execution_count": 39,
      "id": "5e20017c-f334-4b28-8942-16381a21ee79",
      "metadata": {
        "id": "5e20017c-f334-4b28-8942-16381a21ee79"
      },
      "outputs": [],
      "source": [
        "from sklearn.feature_extraction.text import CountVectorizer\n",
        "# creating the count vectorizer function\n",
        "vectorizer = CountVectorizer()\n",
        "# creating a vocabulary based on X-train texts\n",
        "vectorizer.fit(X_train)\n",
        "# fitting it on the train & test datasets\n",
        "tweets_train_vectors = vectorizer.transform(X_train)\n",
        "tweets_test_vectors = vectorizer.transform(X_test)"
      ]
    },
    {
      "cell_type": "code",
      "execution_count": 40,
      "id": "e9e64fea-28a1-45cc-a136-0116d76efb87",
      "metadata": {
        "colab": {
          "base_uri": "https://localhost:8080/"
        },
        "id": "e9e64fea-28a1-45cc-a136-0116d76efb87",
        "outputId": "639decfb-3f09-4945-c520-375cd03c7f06"
      },
      "outputs": [
        {
          "output_type": "stream",
          "name": "stdout",
          "text": [
            "deed reason earthquake may allah forgive u\n",
            "[[0 0 0 ... 0 0 0]]\n"
          ]
        }
      ],
      "source": [
        "print(X_train[0])\n",
        "print(tweets_train_vectors[0].toarray())"
      ]
    },
    {
      "cell_type": "code",
      "execution_count": 41,
      "id": "0b2397e9-be53-4519-8882-380dca452047",
      "metadata": {
        "colab": {
          "base_uri": "https://localhost:8080/"
        },
        "id": "0b2397e9-be53-4519-8882-380dca452047",
        "outputId": "0c42b307-14bf-4b31-a0ea-8d79d73db3ff"
      },
      "outputs": [
        {
          "output_type": "stream",
          "name": "stdout",
          "text": [
            "(5709,)\n",
            "(5709, 12303)\n"
          ]
        }
      ],
      "source": [
        "# Each sentence in the original array was converted to a dense matrix containing the count of those words measured in the word corpus\n",
        "print(X_train.shape)\n",
        "print(tweets_train_vectors.todense().shape)"
      ]
    },
    {
      "cell_type": "code",
      "execution_count": 42,
      "id": "6223af93-9c58-46ac-9be5-a6651b69b354",
      "metadata": {
        "colab": {
          "base_uri": "https://localhost:8080/"
        },
        "id": "6223af93-9c58-46ac-9be5-a6651b69b354",
        "outputId": "8e6cd350-ae71-4291-9796-702d991642db"
      },
      "outputs": [
        {
          "output_type": "stream",
          "name": "stdout",
          "text": [
            "Accuracy on K-folds validation on train set: 0.773 (0.016)\n",
            "Accuracy of Ridge regression classifier on test set: 0.79\n"
          ]
        }
      ],
      "source": [
        "# Fitting final features in the training data & reporting K-folds validation scores\n",
        "from sklearn.linear_model import RidgeClassifier\n",
        "from sklearn.model_selection import cross_val_score\n",
        "from sklearn.model_selection import RepeatedStratifiedKFold\n",
        "from sklearn import metrics\n",
        "from numpy import mean\n",
        "from numpy import std\n",
        "\n",
        "clf = RidgeClassifier()\n",
        "clf.fit(tweets_train_vectors, y_train)\n",
        "\n",
        "cv = RepeatedStratifiedKFold(n_splits=10, n_repeats=5, random_state=1)\n",
        "scores = cross_val_score(clf, tweets_train_vectors, y_train, cv=cv, scoring=\"accuracy\", n_jobs = -1)\n",
        "print('Accuracy on K-folds validation on train set: %.3f (%.3f)' % (mean(scores), std(scores)))\n",
        "print('Accuracy of Ridge regression classifier on test set: {:.2f}'.format(clf.score(tweets_test_vectors, y_test)))"
      ]
    },
    {
      "cell_type": "markdown",
      "id": "f339a80d-0ba7-4b2c-83cc-76531f6a9e51",
      "metadata": {
        "id": "f339a80d-0ba7-4b2c-83cc-76531f6a9e51"
      },
      "source": [
        "#### 1.4.2 Term Frequency - Inverse Document Frequency Vectorizer\n",
        "\n",
        "To penalize the occurence of commonly used terms, the Tf-Idf vectorizer calculates word frequencies in a tweet & downsizes it based on the number of tweets containing the same word in the entire document corpus"
      ]
    },
    {
      "cell_type": "code",
      "execution_count": 43,
      "id": "952795b9-83d9-428e-8457-0b023ef7745c",
      "metadata": {
        "id": "952795b9-83d9-428e-8457-0b023ef7745c",
        "colab": {
          "base_uri": "https://localhost:8080/"
        },
        "outputId": "90f69512-dd78-409b-a498-32f2c39d7b17"
      },
      "outputs": [
        {
          "output_type": "stream",
          "name": "stdout",
          "text": [
            "(5709,)\n",
            "(5709, 12303)\n",
            "(5709,)\n"
          ]
        }
      ],
      "source": [
        "# creating the Tf-IDF vectorizer function\n",
        "from sklearn.feature_extraction.text import TfidfVectorizer\n",
        "vectorizer = TfidfVectorizer(max_features = 15000)\n",
        "# creating a vocabulary based on X-train texts\n",
        "vectorizer.fit(X_train)\n",
        "# fitting it on the train & test datasets\n",
        "tweets_train_vectors = vectorizer.transform(X_train).toarray()\n",
        "tweets_test_vectors = vectorizer.transform(X_test).toarray()\n",
        "\n",
        "vocubulary = vectorizer.vocabulary_\n",
        "print(X_train.shape)\n",
        "print(tweets_train_vectors.shape)\n",
        "print(y_train.shape)"
      ]
    },
    {
      "cell_type": "code",
      "execution_count": 44,
      "id": "53b45129-30bc-4766-b291-09c690d02d68",
      "metadata": {
        "colab": {
          "base_uri": "https://localhost:8080/"
        },
        "id": "53b45129-30bc-4766-b291-09c690d02d68",
        "outputId": "7bee0b19-27ac-4a78-ab81-84e32df98ee7"
      },
      "outputs": [
        {
          "output_type": "stream",
          "name": "stderr",
          "text": [
            "/usr/local/lib/python3.7/dist-packages/joblib/externals/loky/process_executor.py:705: UserWarning: A worker stopped while some jobs were given to the executor. This can be caused by a too short worker timeout or by a memory leak.\n",
            "  \"timeout or by a memory leak.\", UserWarning\n"
          ]
        },
        {
          "output_type": "stream",
          "name": "stdout",
          "text": [
            "Accuracy on K-folds validation on train set: 0.794 (0.017)\n",
            "Accuracy of Ridge regression classifier on test set: 0.80\n"
          ]
        }
      ],
      "source": [
        "# Fitting final features in the training data & reporting K-folds validation scores\n",
        "from sklearn.linear_model import RidgeClassifier\n",
        "from sklearn.model_selection import cross_val_score\n",
        "from sklearn.model_selection import RepeatedStratifiedKFold\n",
        "from sklearn import metrics\n",
        "from numpy import mean\n",
        "from numpy import std\n",
        "\n",
        "clf = RidgeClassifier()\n",
        "clf.fit(tweets_train_vectors, y_train)\n",
        "\n",
        "cv = RepeatedStratifiedKFold(n_splits=10, n_repeats=5, random_state=1)\n",
        "scores = cross_val_score(clf, tweets_train_vectors, y_train, cv=cv, scoring=\"accuracy\", n_jobs = -1)\n",
        "print('Accuracy on K-folds validation on train set: %.3f (%.3f)' % (mean(scores), std(scores)))\n",
        "print('Accuracy of Ridge regression classifier on test set: {:.2f}'.format(clf.score(tweets_test_vectors, y_test)))"
      ]
    },
    {
      "cell_type": "markdown",
      "id": "868008de-cce2-494d-8215-694593bfce73",
      "metadata": {
        "id": "868008de-cce2-494d-8215-694593bfce73"
      },
      "source": [
        "### 2.1 Naive Bayes Classifier\n",
        "\n",
        "In a small dataset such as ours, Naive Bayes might work well since it assumes that the words in the tweet are now independent of each other & we can use the probabilities of each word in the entire corpus to determine the conditional probability of a tweet being about a disaster.  \n",
        "For words that never appear in the corpus, NB uses Laplace smoother (adding 1 to the frequency of each term & adding n (unique words) to the denominator) to avoid probability to plummet to zero.  "
      ]
    },
    {
      "cell_type": "code",
      "execution_count": 45,
      "id": "313ccbf4-5824-4383-9c7e-c0347f9ba623",
      "metadata": {
        "colab": {
          "base_uri": "https://localhost:8080/"
        },
        "id": "313ccbf4-5824-4383-9c7e-c0347f9ba623",
        "outputId": "cd6c92f1-b695-471d-d8d2-ceae9ca8a196"
      },
      "outputs": [
        {
          "output_type": "stream",
          "name": "stdout",
          "text": [
            "Accuracy on K-folds validation on train set: 0.799 (0.017)\n",
            "Accuracy of Naive Bayes classifier on test set: 0.80\n"
          ]
        }
      ],
      "source": [
        "# Fitting final features in the training data & reporting K-folds validation scores\n",
        "from sklearn.naive_bayes import MultinomialNB\n",
        "from sklearn.model_selection import cross_val_score\n",
        "from sklearn.model_selection import RepeatedStratifiedKFold\n",
        "from sklearn import metrics\n",
        "from numpy import mean\n",
        "from numpy import std\n",
        "\n",
        "clf = MultinomialNB()\n",
        "clf.fit(tweets_train_vectors, y_train)\n",
        "\n",
        "cv = RepeatedStratifiedKFold(n_splits=10, n_repeats=5, random_state=1)\n",
        "scores = cross_val_score(clf, tweets_train_vectors, y_train, cv=cv, scoring=\"accuracy\", n_jobs = -1)\n",
        "print('Accuracy on K-folds validation on train set: %.3f (%.3f)' % (mean(scores), std(scores)))\n",
        "print('Accuracy of Naive Bayes classifier on test set: {:.2f}'.format(clf.score(tweets_test_vectors, y_test)))"
      ]
    },
    {
      "cell_type": "markdown",
      "id": "87b2a19a-7c8c-47bf-bcc6-a6af4601f198",
      "metadata": {
        "id": "87b2a19a-7c8c-47bf-bcc6-a6af4601f198"
      },
      "source": [
        "#### Fitting the data into the testset & submitting results to Kaggle\n",
        "\n",
        "The test dataset does not contain the target class, so we will fit the Naive Bayes model to the test set & submit the predictions. "
      ]
    },
    {
      "cell_type": "code",
      "execution_count": 46,
      "id": "9ff479e9-20ca-446a-980a-ba14fd20a197",
      "metadata": {
        "id": "9ff479e9-20ca-446a-980a-ba14fd20a197"
      },
      "outputs": [],
      "source": [
        "# applying the cleaner function on the dataset\n",
        "tweets_test['final_text'] = tweets_test.apply(lambda x: clean_tweets(x['text'], x['keyword']), axis = 1)\n",
        "outsample_X = tweets_test['final_text']\n",
        "outsample_vectors = vectorizer.transform(outsample_X)\n",
        "tweets_test['target'] = clf.predict(outsample_vectors)"
      ]
    },
    {
      "cell_type": "markdown",
      "id": "d39ae023-7333-4268-86f6-daac8b9a00eb",
      "metadata": {
        "id": "d39ae023-7333-4268-86f6-daac8b9a00eb"
      },
      "source": [
        "In this project, we used NLTK & string methods to clean tweets. The cleaned tweets were vectorized & tested with two models : Ridge & Naive Bayes classifier.  \n",
        "Owing to the small size & content constraints, the NB classifier worked out slightly better than the baseline model. We can explore more sophisticated methods such as SVM, Neural Networks etc to improve performance. "
      ]
    },
    {
      "cell_type": "markdown",
      "source": [
        "### 3.1 Training a Recurrent Neural Network\n",
        "Here, we have experimented with a couple of layers of LSTMS (Long Short Term Memory cells) for our text classification exercise. LSTMs are an extension to the traditional recurrent neural networks (RNNs) which contain a bunch of gates to decide the relative importance of information being passed at different stages in the process.   \n",
        "Each timestep can be considered as a word in a sentence being passed into the model, so the model understands the important features from the previous words of the sentence, which also considers the importance in the particular word being fed as an input.  \n",
        "This helps in overcoming one of the biggest flaws of the traditional RNN - long term dependencies. By maintaining a hidden state, the problem of vanishing gradients is taken care of in LSTMs. "
      ],
      "metadata": {
        "id": "5b_R9eo6NUaO"
      },
      "id": "5b_R9eo6NUaO"
    },
    {
      "cell_type": "code",
      "source": [
        "from tensorflow.keras.preprocessing.text import Tokenizer\n",
        "from tensorflow.keras.preprocessing.sequence import pad_sequences\n",
        "tokenizer = Tokenizer(num_words=None, \n",
        "                     filters='!\"#$%&()*+-<=>@[\\\\]^_`{|}~\\t\\n',\n",
        "                     lower = True, split = ' ')\n",
        "# train the tokenizer on train data\n",
        "tokenizer.fit_on_texts(X_train)\n",
        "\n",
        "# convert train into sequences\n",
        "train_sequences = tokenizer.texts_to_sequences(X_train)\n",
        "test_sequences = tokenizer.texts_to_sequences(X_test)\n",
        "\n",
        "\n",
        "# padding the sentences\n",
        "max_length = 20\n",
        "padded_train = pad_sequences(train_sequences, maxlen=max_length, padding='post')\n",
        "padded_test = pad_sequences(test_sequences, maxlen=max_length, padding='post')\n",
        "print(pd.DataFrame(padded_test))\n",
        "padded_train.shape"
      ],
      "metadata": {
        "colab": {
          "base_uri": "https://localhost:8080/"
        },
        "id": "yN0Yq_AqoNrm",
        "outputId": "19401de7-0287-4db5-b846-99b3014edc6d"
      },
      "id": "yN0Yq_AqoNrm",
      "execution_count": 47,
      "outputs": [
        {
          "output_type": "stream",
          "name": "stdout",
          "text": [
            "        0     1     2     3     4     5    6   ...  13  14    15  16  17  18  19\n",
            "0      471    42   149    36    44   971  337  ...   0   0     0   0   0   0   0\n",
            "1       13   145   482   234    19   540  479  ...   0   0     0   0   0   0   0\n",
            "2      426   133   466  3743   699     0    0  ...   0   0     0   0   0   0   0\n",
            "3      168    65   791  1241    37   330    6  ...   0   0     0   0   0   0   0\n",
            "4      451    49    36    78  1288  1455    0  ...   0   0     0   0   0   0   0\n",
            "...    ...   ...   ...   ...   ...   ...  ...  ...  ..  ..   ...  ..  ..  ..  ..\n",
            "1899   855   380     0     0     0     0    0  ...   0   0     0   0   0   0   0\n",
            "1900  1359  4254  6510    37  1051   209   13  ...  43   8  1771   0   0   0   0\n",
            "1901   131   906   667   458   156    82   66  ...   0   0     0   0   0   0   0\n",
            "1902   216   301   728   763   140   216    6  ...   0   0     0   0   0   0   0\n",
            "1903    84   475    75  2625    88   230  290  ...   0   0     0   0   0   0   0\n",
            "\n",
            "[1904 rows x 20 columns]\n"
          ]
        },
        {
          "output_type": "execute_result",
          "data": {
            "text/plain": [
              "(5709, 20)"
            ]
          },
          "metadata": {},
          "execution_count": 47
        }
      ]
    },
    {
      "cell_type": "code",
      "source": [
        "from tensorflow.keras.layers import Embedding, LSTM, Flatten\n",
        "from tensorflow.keras.layers import Dense, Dropout\n",
        "from tensorflow.keras.models import Sequential\n",
        "from keras import callbacks\n",
        "\n",
        "final_train = padded_train[:, :, None] \n",
        "final_test = padded_test[:, :, None] \n",
        "\n",
        "# final_train = tweets_train_vectors[:, :, None] \n",
        "# final_test = tweets_test_vectors[:, :, None] \n",
        "\n",
        "idx_word = tokenizer.index_word\n",
        "num_words = len(idx_word) + 1\n",
        "input_shape = final_train.shape\n",
        "\n",
        "\n",
        "model = Sequential()\n",
        "model.add(Embedding(input_dim = num_words, output_dim = 100, trainable = True, embeddings_initializer='uniform', input_length = max_length))\n",
        "# model.add(Flatten())\n",
        "model.add(LSTM(units=64, input_shape = input_shape, return_sequences = True, dropout = 0.1, recurrent_dropout = 0.1))\n",
        "model.add(LSTM(units=32, return_sequences = True, dropout = 0.1, recurrent_dropout = 0.1))\n",
        "model.add(Dense(100, activation = 'relu'))\n",
        "model.add(Dropout(0.2))\n",
        "model.add(Dense(1, activation = 'sigmoid'))\n",
        "model.compile(loss='binary_crossentropy', optimizer='adam', metrics = ['accuracy'])\n",
        "\n",
        "print(model.summary())\n",
        "\n",
        "model.fit(final_train, y_train, epochs=100, verbose=1, validation_data = (final_test, y_test) ,\n",
        "              callbacks = [callbacks.EarlyStopping(monitor = 'val_accuracy', patience = 15)])"
      ],
      "metadata": {
        "colab": {
          "base_uri": "https://localhost:8080/"
        },
        "id": "49HvPgJSNYCj",
        "outputId": "e5974b85-a8f9-45b9-cdfa-73529095db95"
      },
      "id": "49HvPgJSNYCj",
      "execution_count": 48,
      "outputs": [
        {
          "output_type": "stream",
          "name": "stdout",
          "text": [
            "WARNING:tensorflow:Layer lstm will not use cuDNN kernels since it doesn't meet the criteria. It will use a generic GPU kernel as fallback when running on GPU.\n",
            "WARNING:tensorflow:Layer lstm_1 will not use cuDNN kernels since it doesn't meet the criteria. It will use a generic GPU kernel as fallback when running on GPU.\n",
            "Model: \"sequential\"\n",
            "_________________________________________________________________\n",
            " Layer (type)                Output Shape              Param #   \n",
            "=================================================================\n",
            " embedding (Embedding)       (None, 20, 100)           1232300   \n",
            "                                                                 \n",
            " lstm (LSTM)                 (None, 20, 64)            42240     \n",
            "                                                                 \n",
            " lstm_1 (LSTM)               (None, 20, 32)            12416     \n",
            "                                                                 \n",
            " dense (Dense)               (None, 20, 100)           3300      \n",
            "                                                                 \n",
            " dropout (Dropout)           (None, 20, 100)           0         \n",
            "                                                                 \n",
            " dense_1 (Dense)             (None, 20, 1)             101       \n",
            "                                                                 \n",
            "=================================================================\n",
            "Total params: 1,290,357\n",
            "Trainable params: 1,290,357\n",
            "Non-trainable params: 0\n",
            "_________________________________________________________________\n",
            "None\n",
            "Epoch 1/100\n",
            "179/179 [==============================] - 43s 201ms/step - loss: 0.5730 - accuracy: 0.7069 - val_loss: 0.4794 - val_accuracy: 0.7828\n",
            "Epoch 2/100\n",
            "179/179 [==============================] - 35s 198ms/step - loss: 0.3403 - accuracy: 0.8677 - val_loss: 0.4898 - val_accuracy: 0.7845\n",
            "Epoch 3/100\n",
            "179/179 [==============================] - 35s 197ms/step - loss: 0.2183 - accuracy: 0.9226 - val_loss: 0.5969 - val_accuracy: 0.7701\n",
            "Epoch 4/100\n",
            "179/179 [==============================] - 35s 197ms/step - loss: 0.1593 - accuracy: 0.9440 - val_loss: 0.7494 - val_accuracy: 0.7595\n",
            "Epoch 5/100\n",
            "179/179 [==============================] - 35s 196ms/step - loss: 0.1206 - accuracy: 0.9541 - val_loss: 0.8144 - val_accuracy: 0.7557\n",
            "Epoch 6/100\n",
            "179/179 [==============================] - 35s 197ms/step - loss: 0.0906 - accuracy: 0.9602 - val_loss: 1.1760 - val_accuracy: 0.7549\n",
            "Epoch 7/100\n",
            "179/179 [==============================] - 40s 223ms/step - loss: 0.0838 - accuracy: 0.9633 - val_loss: 1.2941 - val_accuracy: 0.7551\n",
            "Epoch 8/100\n",
            "179/179 [==============================] - 40s 222ms/step - loss: 0.0771 - accuracy: 0.9636 - val_loss: 1.5850 - val_accuracy: 0.7523\n",
            "Epoch 9/100\n",
            "179/179 [==============================] - 37s 205ms/step - loss: 0.0714 - accuracy: 0.9656 - val_loss: 1.2581 - val_accuracy: 0.7653\n",
            "Epoch 10/100\n",
            "179/179 [==============================] - 36s 200ms/step - loss: 0.0765 - accuracy: 0.9653 - val_loss: 1.2453 - val_accuracy: 0.7558\n",
            "Epoch 11/100\n",
            "179/179 [==============================] - 36s 201ms/step - loss: 0.0718 - accuracy: 0.9662 - val_loss: 1.2558 - val_accuracy: 0.7366\n",
            "Epoch 12/100\n",
            "179/179 [==============================] - 36s 201ms/step - loss: 0.0676 - accuracy: 0.9674 - val_loss: 1.5467 - val_accuracy: 0.7552\n",
            "Epoch 13/100\n",
            "179/179 [==============================] - 36s 200ms/step - loss: 0.0620 - accuracy: 0.9689 - val_loss: 1.8389 - val_accuracy: 0.7526\n",
            "Epoch 14/100\n",
            "179/179 [==============================] - 36s 199ms/step - loss: 0.0632 - accuracy: 0.9699 - val_loss: 1.5642 - val_accuracy: 0.7416\n",
            "Epoch 15/100\n",
            "179/179 [==============================] - 36s 200ms/step - loss: 0.0595 - accuracy: 0.9708 - val_loss: 1.6132 - val_accuracy: 0.7443\n",
            "Epoch 16/100\n",
            "179/179 [==============================] - 35s 198ms/step - loss: 0.0579 - accuracy: 0.9707 - val_loss: 1.9232 - val_accuracy: 0.7482\n",
            "Epoch 17/100\n",
            "179/179 [==============================] - 36s 200ms/step - loss: 0.0540 - accuracy: 0.9724 - val_loss: 2.2955 - val_accuracy: 0.7444\n"
          ]
        },
        {
          "output_type": "execute_result",
          "data": {
            "text/plain": [
              "<keras.callbacks.History at 0x7f6d38577350>"
            ]
          },
          "metadata": {},
          "execution_count": 48
        }
      ]
    },
    {
      "cell_type": "code",
      "source": [
        "model.evaluate(final_test, y_test)"
      ],
      "metadata": {
        "colab": {
          "base_uri": "https://localhost:8080/"
        },
        "id": "WgCbaTOIB_kF",
        "outputId": "4e93f5c2-ff38-4d53-c6fd-566301bd3de5"
      },
      "id": "WgCbaTOIB_kF",
      "execution_count": 49,
      "outputs": [
        {
          "output_type": "stream",
          "name": "stdout",
          "text": [
            "60/60 [==============================] - 1s 17ms/step - loss: 2.2955 - accuracy: 0.7444\n"
          ]
        },
        {
          "output_type": "execute_result",
          "data": {
            "text/plain": [
              "[2.2954633235931396, 0.7443802356719971]"
            ]
          },
          "metadata": {},
          "execution_count": 49
        }
      ]
    }
  ],
  "metadata": {
    "kernelspec": {
      "display_name": "Python 3",
      "language": "python",
      "name": "python3"
    },
    "language_info": {
      "codemirror_mode": {
        "name": "ipython",
        "version": 3
      },
      "file_extension": ".py",
      "mimetype": "text/x-python",
      "name": "python",
      "nbconvert_exporter": "python",
      "pygments_lexer": "ipython3",
      "version": "3.8.8"
    },
    "colab": {
      "name": "DNLP Disaster Tweet Predictions.ipynb",
      "provenance": [],
      "collapsed_sections": [],
      "machine_shape": "hm",
      "include_colab_link": true
    },
    "accelerator": "GPU"
  },
  "nbformat": 4,
  "nbformat_minor": 5
}